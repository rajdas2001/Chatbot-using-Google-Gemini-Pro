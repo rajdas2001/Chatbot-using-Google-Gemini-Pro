{
  "nbformat": 4,
  "nbformat_minor": 0,
  "metadata": {
    "colab": {
      "provenance": [],
      "authorship_tag": "ABX9TyOZnPcFAQiaVuuxdKkA5NHV",
      "include_colab_link": true
    },
    "kernelspec": {
      "name": "python3",
      "display_name": "Python 3"
    },
    "language_info": {
      "name": "python"
    }
  },
  "cells": [
    {
      "cell_type": "markdown",
      "metadata": {
        "id": "view-in-github",
        "colab_type": "text"
      },
      "source": [
        "<a href=\"https://colab.research.google.com/github/rajdas2001/Chatbot-using-Google-Gemini-Pro/blob/main/Chatbot_using_Google_Gemini_Pro.ipynb\" target=\"_parent\"><img src=\"https://colab.research.google.com/assets/colab-badge.svg\" alt=\"Open In Colab\"/></a>"
      ]
    },
    {
      "cell_type": "code",
      "source": [
        "import google.generativeai as genai\n",
        "genai.configure(api_key=\"YOUR_KEY_HERE\")\n",
        "model = genai.GenerativeModel('gemini-pro')"
      ],
      "metadata": {
        "id": "O7UPo8wIQbzn"
      },
      "execution_count": 1,
      "outputs": []
    },
    {
      "cell_type": "code",
      "execution_count": 2,
      "metadata": {
        "colab": {
          "base_uri": "https://localhost:8080/"
        },
        "id": "NX5suU5JPzFi",
        "outputId": "d153474b-b856-49d6-8899-efa1511bffc7"
      },
      "outputs": [
        {
          "output_type": "execute_result",
          "data": {
            "text/plain": [
              "<google.generativeai.generative_models.ChatSession at 0x7be9d501d780>"
            ]
          },
          "metadata": {},
          "execution_count": 2
        }
      ],
      "source": [
        "chat = model.start_chat(history=[])\n",
        "chat"
      ]
    },
    {
      "cell_type": "code",
      "source": [
        "rating_list = []"
      ],
      "metadata": {
        "id": "hVryYiVOdH-Q"
      },
      "execution_count": 3,
      "outputs": []
    },
    {
      "cell_type": "code",
      "source": [
        "def feedback():\n",
        "  rating = 1\n",
        "  rating = input(\"Please rate us from a scale of 1 to 5. 1 being worst and 5 being best.\\n\")\n",
        "  rating_list.append(rating)\n",
        "\n",
        "def chat_with_model():\n",
        "  continue_var = \"\"\n",
        "  question = input(\"How can I help you today? \\n\")\n",
        "  response = chat.send_message(question)\n",
        "  print(response.text)\n",
        "  print(\"\\n\")\n",
        "  print(\"Do you want to continue?\\n\")\n",
        "  continue_var = input()\n",
        "  if continue_var.lower() == \"yes\":\n",
        "    chat_with_model()\n",
        "  else:\n",
        "    feedback()\n",
        "\n",
        "def show_chat():\n",
        "  for message in chat.history:\n",
        "    print(f'{message.role}: {message.parts[0].text} \\n')\n",
        "\n",
        "def avg_rating():\n",
        "  print(\"The average rating is: \" + str(sum(rating_list)//len(rating_list)))\n",
        "\n",
        "def save_chat():\n",
        "  text_file = open(\"Output.txt\", \"w\")\n",
        "  for message in chat.history:\n",
        "    text_file.write(f'{message.role}: {message.parts[0].text} \\n')\n",
        "  text_file.close()"
      ],
      "metadata": {
        "id": "KnbqDU_PXFsO"
      },
      "execution_count": 4,
      "outputs": []
    },
    {
      "cell_type": "code",
      "source": [
        "#In one sentence, explain how a computer works to a young child.\n",
        "#Okay, how about a more detailed explanation to a high schooler?"
      ],
      "metadata": {
        "id": "RulMM8uXfOko"
      },
      "execution_count": 5,
      "outputs": []
    },
    {
      "cell_type": "code",
      "source": [
        "#main\n",
        "print(\"Hi! I am a Rx's virtual assistant.\")\n",
        "chat_with_model()\n",
        "\n",
        "save_chat_var = \"\"\n",
        "print(\"Do you want to save the chat?\")\n",
        "save_chat_var = input()\n",
        "if save_chat_var.lower() == \"yes\":\n",
        "  show_chat()\n",
        "  save_chat()\n",
        "else:\n",
        "  print(\"Thank you!\")"
      ],
      "metadata": {
        "colab": {
          "base_uri": "https://localhost:8080/",
          "height": 636
        },
        "id": "0u2GsarxZNq2",
        "outputId": "653e9041-ea50-48e8-b50a-99fbf1cbc3c4"
      },
      "execution_count": 6,
      "outputs": [
        {
          "output_type": "stream",
          "name": "stdout",
          "text": [
            "Hi! I am a Rx's virtual assistant.\n",
            "How can I help you today? \n",
            "In one sentence, explain how a computer works to a young child.\n",
            "A computer is like a smart machine with lots of buttons and a screen that can play games, show videos, and do many things when you tell it what to do.\n",
            "\n",
            "\n",
            "Do you want to continue?\n",
            "\n",
            "yes\n",
            "How can I help you today? \n",
            "Okay, how about a more detailed explanation to a high schooler?\n",
            "At its core, a computer is a machine that can be programmed to carry out a set of instructions. It consists of hardware, which are the physical components like the processor, memory, and storage, and software, which are the programs and instructions that tell the computer what to do. The processor, often called the brain of the computer, performs calculations and controls the flow of data. Memory, like RAM, temporarily stores data and instructions that are being processed. Storage devices, such as hard disk drives or solid-state drives, hold data and programs permanently. Input devices, like keyboards and mice, allow the user to interact with the computer, while output devices, like monitors and printers, display or print the results of computations. Software, including the operating system, application programs, and drivers, provides the instructions and functionality for the computer to perform specific tasks.\n",
            "\n",
            "In summary, a computer is a programmable machine that processes data, performs calculations, and follows instructions to carry out various tasks as directed by software.\n",
            "\n",
            "\n",
            "Do you want to continue?\n",
            "\n",
            "no\n",
            "Please rate us from a scale of 1 to 5. 1 being worst and 5 being best.\n",
            "5\n",
            "Do you want to save the chat?\n",
            "yes\n",
            "user: In one sentence, explain how a computer works to a young child. \n",
            "\n",
            "model: A computer is like a smart machine with lots of buttons and a screen that can play games, show videos, and do many things when you tell it what to do. \n",
            "\n",
            "user: Okay, how about a more detailed explanation to a high schooler? \n",
            "\n",
            "model: At its core, a computer is a machine that can be programmed to carry out a set of instructions. It consists of hardware, which are the physical components like the processor, memory, and storage, and software, which are the programs and instructions that tell the computer what to do. The processor, often called the brain of the computer, performs calculations and controls the flow of data. Memory, like RAM, temporarily stores data and instructions that are being processed. Storage devices, such as hard disk drives or solid-state drives, hold data and programs permanently. Input devices, like keyboards and mice, allow the user to interact with the computer, while output devices, like monitors and printers, display or print the results of computations. Software, including the operating system, application programs, and drivers, provides the instructions and functionality for the computer to perform specific tasks.\n",
            "\n",
            "In summary, a computer is a programmable machine that processes data, performs calculations, and follows instructions to carry out various tasks as directed by software. \n",
            "\n"
          ]
        }
      ]
    },
    {
      "cell_type": "code",
      "source": [],
      "metadata": {
        "id": "PlSEU5hrIy42"
      },
      "execution_count": 6,
      "outputs": []
    }
  ]
}